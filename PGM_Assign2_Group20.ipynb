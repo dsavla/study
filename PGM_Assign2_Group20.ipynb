{
  "nbformat": 4,
  "nbformat_minor": 0,
  "metadata": {
    "colab": {
      "name": "PGM_Assign2_Group20.ipynb",
      "provenance": [],
      "authorship_tag": "ABX9TyNcZ5d8G3ytTVu9o8NREQML",
      "include_colab_link": true
    },
    "kernelspec": {
      "name": "python2",
      "display_name": "Python 2"
    },
    "language_info": {
      "name": "python"
    }
  },
  "cells": [
    {
      "cell_type": "markdown",
      "metadata": {
        "id": "view-in-github",
        "colab_type": "text"
      },
      "source": [
        "<a href=\"https://colab.research.google.com/github/dsavla/study/blob/main/PGM_Assign2_Group20.ipynb\" target=\"_parent\"><img src=\"https://colab.research.google.com/assets/colab-badge.svg\" alt=\"Open In Colab\"/></a>"
      ]
    },
    {
      "cell_type": "code",
      "metadata": {
        "colab": {
          "base_uri": "https://localhost:8080/"
        },
        "id": "-4xGXMM-cScZ",
        "outputId": "fda03f41-b26a-4532-8686-629b792a5a16"
      },
      "source": [
        "# Assignment 2 Bayesian Network Learning\n",
        "# 1. Learn a Bayesian network, both structure and parameters from the Titanic dataset.\n",
        "#\n",
        "# Download the dataset here. https://www.kaggle.com/c/titanic/data (Links to an external site.)\n",
        "#\n",
        "# 2. Visualise the model.\n",
        "#\n",
        "# 3. The code should be sufficiently commented so that it well explains the code. Also clear segregation in the code has to be established in terms of what is done in each section.\n",
        "#\n",
        "# 4. If plagiarism is detected in the code, no marks will be awarded.\n",
        "#\n",
        "# 5. Save your code(.ipynb) file with all executed results and outputs present. Upload both .ipynb file and its converted pdf as submission.\n",
        "#\n",
        "# NOTE: You may use existing libraries in your code. Also deadline will be the end of 15th session.\n",
        "\n",
        "# Steps followed :\n",
        "# 1. Given the training data, first we reduce the data points based on domain understanding ex passenger Id, Passenger name, Pclass etc\n",
        "# 2. Apply pre-processing wherein, we clean the data, remove empty data cells and normalize data to numerical values\n",
        "# 3. Apply chi-square test to identify the possible the pairs which are correlated\n",
        "# 4. Use discrete_constraint_estimatestruct() from libpgm library with the limited columns identified, to find the structure.\n",
        "# 5. Based on the edges we calculate the CPDs using the libpgm library\n",
        "# 6. Print the bayesian network and the calculated CPDs\n",
        "\n",
        "from scipy.stats import chi2_contingency\n",
        "import pandas as pd\n",
        "!pip install libpgm\n",
        "from libpgm.pgmlearner import PGMLearner\n",
        "import matplotlib.pyplot as plt\n",
        "\n",
        "import networkx as nx\n",
        "import json"
      ],
      "execution_count": 1,
      "outputs": [
        {
          "output_type": "stream",
          "name": "stdout",
          "text": [
            "Collecting libpgm\n",
            "  Downloading https://files.pythonhosted.org/packages/1f/75/ef836fdef3ae0c56b4852bced567626d9a0bdfc2947ca91fabb52426ef7b/libpgm-1.3.tar.gz\n",
            "Building wheels for collected packages: libpgm\n",
            "  Building wheel for libpgm (setup.py) ... \u001b[?25l\u001b[?25hdone\n",
            "  Created wheel for libpgm: filename=libpgm-1.3-cp27-none-any.whl size=55716 sha256=695b067f18c7348dfdc809302db336d1f207fb92627ec909031d776542458c32\n",
            "  Stored in directory: /root/.cache/pip/wheels/bc/9c/3a/1274b1b5f544ed6bbbf3f34d3f3550df6403b627a98e4aa11c\n",
            "Successfully built libpgm\n",
            "Installing collected packages: libpgm\n",
            "Successfully installed libpgm-1.3\n"
          ]
        }
      ]
    },
    {
      "cell_type": "code",
      "metadata": {
        "id": "IKVVRCzocqA7"
      },
      "source": [
        "'''\n",
        "    This method verifies the dependency of src column on other data columns based on chi square test.      \n",
        "'''\n",
        "def check_depedency(df, srcColumn, targetColumn):\n",
        "    df_src_target = df[[srcColumn, targetColumn]]\n",
        "    \n",
        "    contigency = pd.crosstab(df_src_target[srcColumn], df_src_target[targetColumn])\n",
        "    c, p, dof, expected = chi2_contingency(contigency)\n",
        "    #Threshold for chi square test\n",
        "    alpha = 0.05 \n",
        "    \n",
        "    if p <= alpha:\n",
        "        #Reject Hypothesis - Dependent \n",
        "        #print (p, \":\", srcColumn, \":\", targetColumn)\n",
        "        return 2\n",
        "    else:\n",
        "        #Accept Hypothesis - Independent  \n",
        "        return 1\n"
      ],
      "execution_count": 2,
      "outputs": []
    },
    {
      "cell_type": "code",
      "metadata": {
        "id": "urp_9LspdUfH"
      },
      "source": [
        "'''\n",
        "Prepare list of Dictionary from each dataframe row\n",
        "'''\n",
        "def format_data(df, src, cols):\n",
        "    \n",
        "    df_dict_list = []\n",
        "    for index, row in df.iterrows():\n",
        "        \n",
        "        row_dict = {}\n",
        "        row_dict[src] = row[src]\n",
        "\n",
        "        for i in cols:\n",
        "            row_dict[i] = row[i]\n",
        "        df_dict_list.append(row_dict)\n",
        "        \n",
        "    return df_dict_list"
      ],
      "execution_count": 3,
      "outputs": []
    },
    {
      "cell_type": "code",
      "metadata": {
        "id": "A_4fcAYgep5U"
      },
      "source": [
        "from google.colab import files\n",
        "files.upload()"
      ],
      "execution_count": null,
      "outputs": []
    },
    {
      "cell_type": "code",
      "metadata": {
        "colab": {
          "base_uri": "https://localhost:8080/"
        },
        "id": "e8oh-Cn5e43Z",
        "outputId": "29cf93a7-3257-4fd4-efab-77d1e401bc6e"
      },
      "source": [
        "!kaggle competitions download -c titanic"
      ],
      "execution_count": 11,
      "outputs": [
        {
          "output_type": "stream",
          "name": "stdout",
          "text": [
            "Warning: Looks like you're using an outdated API Version, please consider updating (server 1.5.12 / client 1.5.4)\n",
            "Downloading gender_submission.csv to /content\n",
            "  0% 0.00/3.18k [00:00<?, ?B/s]\n",
            "100% 3.18k/3.18k [00:00<00:00, 6.56MB/s]\n",
            "Downloading test.csv to /content\n",
            "  0% 0.00/28.0k [00:00<?, ?B/s]\n",
            "100% 28.0k/28.0k [00:00<00:00, 28.7MB/s]\n",
            "Downloading train.csv to /content\n",
            "  0% 0.00/59.8k [00:00<?, ?B/s]\n",
            "100% 59.8k/59.8k [00:00<00:00, 58.8MB/s]\n"
          ]
        }
      ]
    },
    {
      "cell_type": "code",
      "metadata": {
        "colab": {
          "base_uri": "https://localhost:8080/"
        },
        "id": "ntgz7bHgdUax",
        "outputId": "9bb8bfa0-439a-4b99-cc08-c1fd6c29f17c"
      },
      "source": [
        "######################### 1. Given the input data, first we reduce the data points based on domain understanding ex passenger Id, Passenger name, etc #########################\n",
        "\n",
        "# Read input data which is already downloaded from Kaggle and saved to drive\n",
        "df_input = pd.read_csv('train.csv', sep=',')\n",
        "\n",
        "print (df_input.keys())\n",
        "revisedcolumns = []\n",
        "for key in df_input.keys():\n",
        "    value = str(key)\n",
        "    if (value not in ['PassengerId', 'Cabin', 'Ticket', 'Name', 'Pclass']):\n",
        "        revisedcolumns.append(value)\n",
        "\n",
        "defaultlength = len(revisedcolumns)\n",
        "\n",
        "for i in range(defaultlength):\n",
        "    print(revisedcolumns[i])"
      ],
      "execution_count": 12,
      "outputs": [
        {
          "output_type": "stream",
          "name": "stdout",
          "text": [
            "Index([u'PassengerId', u'Survived', u'Pclass', u'Name', u'Sex', u'Age',\n",
            "       u'SibSp', u'Parch', u'Ticket', u'Fare', u'Cabin', u'Embarked'],\n",
            "      dtype='object')\n",
            "Survived\n",
            "Sex\n",
            "Age\n",
            "SibSp\n",
            "Parch\n",
            "Fare\n",
            "Embarked\n"
          ]
        }
      ]
    },
    {
      "cell_type": "code",
      "metadata": {
        "colab": {
          "base_uri": "https://localhost:8080/"
        },
        "id": "JBaWkzTAdUWl",
        "outputId": "4efe5af3-9d97-4828-c851-df0515c2a7d0"
      },
      "source": [
        "######################## 2. Apply pre-processing wherein, we clean the data, remove empty data cells and normalize data to numerical values #########################\n",
        "\n",
        "# Preprocessing - consider the identified columns \n",
        "df_train = df_input.dropna()\n",
        "df_train = df_input[revisedcolumns]\n",
        "\n",
        "df_train.loc[:,'Fare'] = pd.cut(df_train.Fare, [df_input.Fare.min(), df_input.Fare.mean()/2, df_input.Fare.mean(), df_input.Fare.mean() + df_input.Fare.mean()/2, df_input.Fare.max()], labels =[0,1,2,3])\n",
        "df_train.loc[:, 'Sex'] = df_train.Sex.map({'female': 0, 'male': 1})\n",
        "df_train.loc[:, 'Embarked'] = df_train.Embarked.map({'S': 0, 'C': 1, 'Q': 2})\n",
        "\n",
        "df_train = df_train.dropna()\n",
        "\n",
        "src = 'Survived'\n",
        "\n",
        "dependent_columns = []\n",
        "for y in range(defaultlength):\n",
        "        target = revisedcolumns[y]\n",
        "        if (src != target ) :\n",
        "            reference = check_depedency(df_train, src, target)\n",
        "            if  ( reference == 2) :\n",
        "                dependent_columns.append(target)\n",
        "\n",
        "print (dependent_columns , 'for source column as ' , src )\n",
        "\n"
      ],
      "execution_count": 14,
      "outputs": [
        {
          "output_type": "stream",
          "name": "stdout",
          "text": [
            "(['Sex', 'SibSp', 'Parch', 'Fare', 'Embarked'], 'for source column as ', 'Survived')\n"
          ]
        }
      ]
    },
    {
      "cell_type": "code",
      "metadata": {
        "colab": {
          "base_uri": "https://localhost:8080/",
          "height": 323
        },
        "id": "nP9-pBjBdUSK",
        "outputId": "4847bc8f-1da7-42fc-dd44-4048545cd230"
      },
      "source": [
        "######################## 4. Use discrete_constraint_estimatestruct() from libpgm library with the limited columns identified, to find the structure. #########################\n",
        "\n",
        "# Use the dependent columns to prepare dict list from the dataframe \n",
        "# This is input for Structure estimation \n",
        "data = format_data(df_train, src, dependent_columns)\n",
        "\n",
        "# learn the structure\n",
        "pgm_learner = PGMLearner()\n",
        "\n",
        "result_structure = pgm_learner.discrete_constraint_estimatestruct(data)\n",
        "\n",
        "print('Vertices of the graph:' , result_structure.V)\n",
        "print('Edges identied from the graph:' , result_structure.E)\n",
        "\n",
        "\n",
        "G = nx.DiGraph()\n",
        "# G.add_node()\n",
        "G.add_nodes_from(result_structure.V)\n",
        "\n",
        "G.add_edges_from(result_structure.E)\n",
        "\n",
        "# G.add_edge(result_structure.E,weight=0.6)\n",
        "nx.draw_networkx(G, node_color='y', node_size=2000, width=3)\n",
        "plt.axis('off')\n",
        "plt.show()"
      ],
      "execution_count": 18,
      "outputs": [
        {
          "output_type": "stream",
          "name": "stdout",
          "text": [
            "('Vertices of the graph:', ['Sex', 'Fare', 'Embarked', 'SibSp', 'Parch', 'Survived'])\n",
            "('Edges identied from the graph:', [['Fare', 'Embarked'], ['Fare', 'Parch'], ['Fare', 'SibSp'], ['Sex', 'Parch'], ['SibSp', 'Parch'], ['Fare', 'Survived'], ['Sex', 'Survived']])\n"
          ]
        },
        {
          "output_type": "display_data",
          "data": {
            "image/png": "[encoded data removed]",
            "text/plain": [
              "<Figure size 432x288 with 1 Axes>"
            ]
          },
          "metadata": {
            "needs_background": "light"
          }
        }
      ]
    },
    {
      "cell_type": "code",
      "metadata": {
        "colab": {
          "base_uri": "https://localhost:8080/"
        },
        "id": "Z2GnH-xidUNI",
        "outputId": "4245fe2c-20ba-4536-8664-76efa2d5461e"
      },
      "source": [
        "######################## 5. Based on the edges we calculate the CPDs  #########################\n",
        "\n",
        "result_params = pgm_learner.discrete_mle_estimateparams(result_structure, data)\n",
        "\n",
        "# result_params.Vdata['Class']# to inspect the network\n",
        "\n",
        "#strJsonParams = json.dumps(result_params.Vdata, indent=2)\n",
        "print ('Fare - CPD')\n",
        "print ('Values:', result_params.Vdata['Fare']['vals'] )\n",
        "print ('Probability:', result_params.Vdata['Fare']['cprob'])\n",
        "print ('Children:', result_params.Vdata['Fare']['children'])"
      ],
      "execution_count": 29,
      "outputs": [
        {
          "output_type": "stream",
          "name": "stdout",
          "text": [
            "Fare - CPD\n",
            "('Values:', [0, 3, 1, 2])\n",
            "('Probability:', [0.5177304964539007, 0.1971631205673759, 0.225531914893617, 0.059574468085106386])\n",
            "('Children:', ['Embarked', 'Parch', 'SibSp', 'Survived'])\n"
          ]
        }
      ]
    },
    {
      "cell_type": "code",
      "metadata": {
        "colab": {
          "base_uri": "https://localhost:8080/"
        },
        "id": "Yc_ganVqjVSf",
        "outputId": "89d8a83d-eea4-438b-af60-711e434428ba"
      },
      "source": [
        "print ('Sex - CPD')\n",
        "print ('Values:', result_params.Vdata['Sex']['vals'] )\n",
        "print ('Probability:', result_params.Vdata['Sex']['cprob'])\n",
        "print ('Children:', result_params.Vdata['Sex']['children'])"
      ],
      "execution_count": 31,
      "outputs": [
        {
          "output_type": "stream",
          "name": "stdout",
          "text": [
            "Sex - CPD\n",
            "('Values:', [1, 0])\n",
            "('Probability:', [0.6326241134751773, 0.36737588652482267])\n",
            "('Children:', ['Parch', 'Survived'])\n"
          ]
        }
      ]
    },
    {
      "cell_type": "code",
      "metadata": {
        "colab": {
          "base_uri": "https://localhost:8080/"
        },
        "id": "bltpjDgtkUoY",
        "outputId": "e18487ce-e4bb-4b82-c805-e1a85da40837"
      },
      "source": [
        "print ('Embarked - CPD')\n",
        "print ('Values:', result_params.Vdata['Embarked']['vals'] )\n",
        "print ('Parents:', result_params.Vdata['Embarked']['parents'])\n",
        "print ('Probability:', result_params.Vdata['Embarked']['cprob'])\n"
      ],
      "execution_count": 32,
      "outputs": [
        {
          "output_type": "stream",
          "name": "stdout",
          "text": [
            "Embarked - CPD\n",
            "('Values:', [0.0, 1.0, 2.0])\n",
            "('Parents:', ['Fare'])\n",
            "('Probability:', {\"['1']\": [0.8238993710691824, 0.14465408805031446, 0.031446540880503145], \"['0']\": [0.8328767123287671, 0.1095890410958904, 0.057534246575342465], \"['3']\": [0.5683453237410072, 0.4172661870503597, 0.014388489208633094], \"['2']\": [0.7857142857142857, 0.21428571428571427, 0.0]})\n"
          ]
        }
      ]
    },
    {
      "cell_type": "code",
      "metadata": {
        "colab": {
          "base_uri": "https://localhost:8080/"
        },
        "id": "p6F0S53gkoSl",
        "outputId": "c69637d3-008b-4b3e-c301-8b5a2db7af8f"
      },
      "source": [
        "print ('SibSp - CPD')\n",
        "print ('Values:', result_params.Vdata['SibSp']['vals'] )\n",
        "print ('Parents:', result_params.Vdata['SibSp']['parents'])\n",
        "print ('Probability:', result_params.Vdata['SibSp']['cprob'])\n",
        "print ('Children:', result_params.Vdata['SibSp']['children'])"
      ],
      "execution_count": 34,
      "outputs": [
        {
          "output_type": "stream",
          "name": "stdout",
          "text": [
            "SibSp - CPD\n",
            "('Values:', [1, 0, 3, 4, 2, 5])\n",
            "('Parents:', ['Fare'])\n",
            "('Probability:', {\"['1']\": [0.37735849056603776, 0.44654088050314467, 0.050314465408805034, 0.07547169811320754, 0.050314465408805034, 0.0], \"['0']\": [0.12054794520547946, 0.8602739726027397, 0.0027397260273972603, 0.0027397260273972603, 0.0136986301369863, 0.0], \"['3']\": [0.4748201438848921, 0.4460431654676259, 0.02158273381294964, 0.0, 0.05755395683453238, 0.0], \"['2']\": [0.30952380952380953, 0.35714285714285715, 0.0, 0.11904761904761904, 0.09523809523809523, 0.11904761904761904]})\n",
            "('Children:', ['Parch'])\n"
          ]
        }
      ]
    },
    {
      "cell_type": "code",
      "metadata": {
        "colab": {
          "base_uri": "https://localhost:8080/"
        },
        "id": "8U6bONWqk68z",
        "outputId": "52955448-72fa-4aab-af9b-99c74306a318"
      },
      "source": [
        "print ('Parch - CPD')\n",
        "print ('Values:', result_params.Vdata['Parch']['vals'] )\n",
        "print ('Parents:', result_params.Vdata['Parch']['parents'])\n",
        "print ('Probability:', result_params.Vdata['Parch']['cprob'])"
      ],
      "execution_count": 36,
      "outputs": [
        {
          "output_type": "stream",
          "name": "stdout",
          "text": [
            "Parch - CPD\n",
            "('Values:', [0, 1, 2, 5, 3, 4, 6])\n",
            "('Parents:', ['Fare', 'Sex', 'SibSp'])\n",
            "('Probability:', {\"['2', '0', '3']\": [0.14285714285714285, 0.14285714285714285, 0.14285714285714285, 0.14285714285714285, 0.14285714285714285, 0.14285714285714285, 0.14285714285714285], \"['3', '1', '4']\": [0.14285714285714285, 0.14285714285714285, 0.14285714285714285, 0.14285714285714285, 0.14285714285714285, 0.14285714285714285, 0.14285714285714285], \"['3', '0', '4']\": [0.14285714285714285, 0.14285714285714285, 0.14285714285714285, 0.14285714285714285, 0.14285714285714285, 0.14285714285714285, 0.14285714285714285], \"['2', '0', '5']\": [0.0, 0.0, 1.0, 0.0, 0.0, 0.0, 0.0], \"['0', '1', '5']\": [0.14285714285714285, 0.14285714285714285, 0.14285714285714285, 0.14285714285714285, 0.14285714285714285, 0.14285714285714285, 0.14285714285714285], \"['1', '0', '0']\": [0.34615384615384615, 0.23076923076923078, 0.3076923076923077, 0.038461538461538464, 0.038461538461538464, 0.038461538461538464, 0.0], \"['0', '1', '0']\": [0.9788135593220338, 0.01694915254237288, 0.00423728813559322, 0.0, 0.0, 0.0, 0.0], \"['3', '0', '5']\": [0.14285714285714285, 0.14285714285714285, 0.14285714285714285, 0.14285714285714285, 0.14285714285714285, 0.14285714285714285, 0.14285714285714285], \"['1', '1', '3']\": [0.0, 0.3333333333333333, 0.6666666666666666, 0.0, 0.0, 0.0, 0.0], \"['3', '1', '1']\": [0.7096774193548387, 0.16129032258064516, 0.0967741935483871, 0.0, 0.0, 0.03225806451612903, 0.0], \"['1', '1', '2']\": [1.0, 0.0, 0.0, 0.0, 0.0, 0.0, 0.0], \"['3', '0', '0']\": [0.6571428571428571, 0.22857142857142856, 0.11428571428571428, 0.0, 0.0, 0.0, 0.0], \"['1', '0', '3']\": [0.2, 0.4, 0.4, 0.0, 0.0, 0.0, 0.0], \"['3', '1', '0']\": [0.5555555555555556, 0.2962962962962963, 0.14814814814814814, 0.0, 0.0, 0.0, 0.0], \"['0', '1', '4']\": [0.14285714285714285, 0.14285714285714285, 0.14285714285714285, 0.14285714285714285, 0.14285714285714285, 0.14285714285714285, 0.14285714285714285], \"['3', '0', '1']\": [0.6285714285714286, 0.2, 0.17142857142857143, 0.0, 0.0, 0.0, 0.0], \"['3', '1', '2']\": [1.0, 0.0, 0.0, 0.0, 0.0, 0.0, 0.0], \"['0', '1', '2']\": [0.8, 0.2, 0.0, 0.0, 0.0, 0.0, 0.0], \"['2', '1', '0']\": [0.8333333333333334, 0.08333333333333333, 0.08333333333333333, 0.0, 0.0, 0.0, 0.0], \"['0', '0', '2']\": [0.14285714285714285, 0.14285714285714285, 0.14285714285714285, 0.14285714285714285, 0.14285714285714285, 0.14285714285714285, 0.14285714285714285], \"['3', '1', '5']\": [0.14285714285714285, 0.14285714285714285, 0.14285714285714285, 0.14285714285714285, 0.14285714285714285, 0.14285714285714285, 0.14285714285714285], \"['1', '1', '5']\": [0.14285714285714285, 0.14285714285714285, 0.14285714285714285, 0.14285714285714285, 0.14285714285714285, 0.14285714285714285, 0.14285714285714285], \"['0', '1', '3']\": [0.14285714285714285, 0.14285714285714285, 0.14285714285714285, 0.14285714285714285, 0.14285714285714285, 0.14285714285714285, 0.14285714285714285], \"['3', '0', '2']\": [0.3333333333333333, 0.0, 0.6666666666666666, 0.0, 0.0, 0.0, 0.0], \"['0', '0', '0']\": [0.8461538461538461, 0.08974358974358974, 0.0641025641025641, 0.0, 0.0, 0.0, 0.0], \"['0', '1', '1']\": [0.6296296296296297, 0.37037037037037035, 0.0, 0.0, 0.0, 0.0, 0.0], \"['2', '1', '4']\": [0.0, 1.0, 0.0, 0.0, 0.0, 0.0, 0.0], \"['3', '1', '3']\": [0.0, 0.0, 1.0, 0.0, 0.0, 0.0, 0.0], \"['0', '0', '3']\": [1.0, 0.0, 0.0, 0.0, 0.0, 0.0, 0.0], \"['2', '1', '2']\": [0.0, 1.0, 0.0, 0.0, 0.0, 0.0, 0.0], \"['0', '0', '5']\": [0.14285714285714285, 0.14285714285714285, 0.14285714285714285, 0.14285714285714285, 0.14285714285714285, 0.14285714285714285, 0.14285714285714285], \"['2', '1', '1']\": [0.0, 0.6666666666666666, 0.16666666666666666, 0.0, 0.16666666666666666, 0.0, 0.0], \"['2', '1', '3']\": [0.14285714285714285, 0.14285714285714285, 0.14285714285714285, 0.14285714285714285, 0.14285714285714285, 0.14285714285714285, 0.14285714285714285], \"['2', '0', '2']\": [0.0, 0.3333333333333333, 0.6666666666666666, 0.0, 0.0, 0.0, 0.0], \"['0', '0', '4']\": [0.0, 0.0, 1.0, 0.0, 0.0, 0.0, 0.0], \"['2', '0', '1']\": [0.14285714285714285, 0.2857142857142857, 0.2857142857142857, 0.0, 0.14285714285714285, 0.0, 0.14285714285714285], \"['1', '1', '4']\": [0.0, 0.5714285714285714, 0.42857142857142855, 0.0, 0.0, 0.0, 0.0], \"['0', '0', '1']\": [0.7058823529411765, 0.29411764705882354, 0.0, 0.0, 0.0, 0.0, 0.0], \"['2', '0', '0']\": [0.0, 0.6666666666666666, 0.0, 0.3333333333333333, 0.0, 0.0, 0.0], \"['1', '0', '1']\": [0.45161290322580644, 0.3548387096774194, 0.06451612903225806, 0.06451612903225806, 0.03225806451612903, 0.03225806451612903, 0.0], \"['3', '0', '3']\": [0.0, 0.0, 1.0, 0.0, 0.0, 0.0, 0.0], \"['1', '1', '0']\": [0.9111111111111111, 0.022222222222222223, 0.06666666666666667, 0.0, 0.0, 0.0, 0.0], \"['1', '0', '2']\": [0.16666666666666666, 0.6666666666666666, 0.0, 0.0, 0.16666666666666666, 0.0, 0.0], \"['2', '1', '5']\": [0.0, 0.0, 1.0, 0.0, 0.0, 0.0, 0.0], \"['2', '0', '4']\": [0.14285714285714285, 0.14285714285714285, 0.14285714285714285, 0.14285714285714285, 0.14285714285714285, 0.14285714285714285, 0.14285714285714285], \"['1', '0', '4']\": [0.0, 0.0, 1.0, 0.0, 0.0, 0.0, 0.0], \"['1', '1', '1']\": [0.4827586206896552, 0.3448275862068966, 0.10344827586206896, 0.034482758620689655, 0.0, 0.034482758620689655, 0.0], \"['1', '0', '5']\": [0.14285714285714285, 0.14285714285714285, 0.14285714285714285, 0.14285714285714285, 0.14285714285714285, 0.14285714285714285, 0.14285714285714285]})\n",
            "('Children:', [])\n"
          ]
        }
      ]
    },
    {
      "cell_type": "code",
      "metadata": {
        "colab": {
          "base_uri": "https://localhost:8080/"
        },
        "id": "ZSAcWVNalI3Y",
        "outputId": "9794e437-e0b7-4605-c0e1-9e4ad6500ed6"
      },
      "source": [
        "print ('Survived - CPD')\n",
        "print ('Values:', result_params.Vdata['Survived']['vals'] )\n",
        "print ('Parents:', result_params.Vdata['Survived']['parents'])\n",
        "print ('Probability:', result_params.Vdata['Survived']['cprob'])"
      ],
      "execution_count": 39,
      "outputs": [
        {
          "output_type": "stream",
          "name": "stdout",
          "text": [
            "Survived - CPD\n",
            "('Values:', [0, 1])\n",
            "('Parents:', ['Fare', 'Sex'])\n",
            "('Probability:', {\"['0', '0']\": [0.35051546391752575, 0.6494845360824743], \"['1', '1']\": [0.6976744186046512, 0.3023255813953488], \"['3', '1']\": [0.609375, 0.390625], \"['1', '0']\": [0.3013698630136986, 0.6986301369863014], \"['2', '1']\": [0.8214285714285714, 0.17857142857142858], \"['2', '0']\": [0.42857142857142855, 0.5714285714285714], \"['0', '1']\": [0.8656716417910447, 0.13432835820895522], \"['3', '0']\": [0.02666666666666667, 0.9733333333333334]})\n"
          ]
        }
      ]
    }
  ]
}